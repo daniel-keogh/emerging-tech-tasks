{
 "cells": [
  {
   "cell_type": "markdown",
   "metadata": {},
   "source": [
    "# Emerging Technologies Tasks"
   ]
  },
  {
   "cell_type": "markdown",
   "metadata": {},
   "source": [
    "My solutions to the Emerging Technologies tasks assessment."
   ]
  },
  {
   "cell_type": "markdown",
   "metadata": {},
   "source": [
    "## Task 1: Square Root of 2"
   ]
  },
  {
   "cell_type": "markdown",
   "metadata": {},
   "source": [
    ">*Write a Python function called `sqrt2` that calculates and prints to the screen the square root of 2 to 100 decimal places. Your code should not depend on any module from the standard library or otherwise. You should research the task first and include references and a description of your algorithm.*"
   ]
  },
  {
   "cell_type": "markdown",
   "metadata": {},
   "source": [
    "### Algorithm Description"
   ]
  },
  {
   "cell_type": "markdown",
   "metadata": {},
   "source": [
    "Before discussing the algorithm used to solve this problem, it is necessary to first provide some background on how floating point numbers are stored on a computer."
   ]
  },
  {
   "cell_type": "markdown",
   "metadata": {},
   "source": [
    "#### Floating Point Numbers"
   ]
  },
  {
   "cell_type": "markdown",
   "metadata": {},
   "source": [
    "Floating point numbers are used to represent fractional values and are stored in a computer as base 2 (binary) fractions. Most decimal fractions cannot be accurately represented as binary fractions and as a result, decimal floating-point numbers are only approximated by the binary floating-point numbers actually stored in the machine \\[1\\]. For instance, the summation of $0.1$ and $0.2$ yields a result of $0.3$ in decimal. However, the result of this computation cannot be accurately represented in binary (see below)."
   ]
  },
  {
   "cell_type": "code",
   "execution_count": 1,
   "metadata": {},
   "outputs": [
    {
     "data": {
      "text/plain": [
       "0.30000000000000004"
      ]
     },
     "execution_count": 1,
     "metadata": {},
     "output_type": "execute_result"
    }
   ],
   "source": [
    "0.1 + 0.2"
   ]
  },
  {
   "cell_type": "markdown",
   "metadata": {},
   "source": [
    "The IEEE standard defines 32-bit and 64-bit floating-point representations. The 32-bit (single-precision) format consists of a sign bit, an 8-bit exponent and 23 bits of mantissa. The 64-bit (double-precision) format consists of a sign bit, an 11-bit exponent and 52 bits of mantissa. Floating-point arithmetic on computers is therefore inherently inexact as the 24 bits of mantissa in a 32-bit floating-point number can only represent approximately 7 significant decimal digits (for doubles this is about 16 significant decimal digits \\[2\\]\\[3\\]). If a number is not exactly representable, then it must instead be approximated \\[2\\].\n",
    "\n",
    "Python's float type has double-precision \\[1\\], and it is therefore not possible to store a number with 100 decimal places as a float. However, in Python integers have unlimited precision \\[4\\], so one approach to the given problem is to store all the significant digits of $\\sqrt2$ as an integer. Finding the square root of a given number $p$ as an integer can be achieved by calculating the *integer square root* of $p \\times 10^{2 \\times q}$, where $q$ is the number of digits after the decimal point, in this case 100."
   ]
  },
  {
   "cell_type": "markdown",
   "metadata": {},
   "source": [
    "#### Finding the Integer Square Root using Newton's Method"
   ]
  },
  {
   "cell_type": "markdown",
   "metadata": {},
   "source": [
    "The integer square root of a number is the greatest positive integer less than or equal to the square root of that number, and can be found using Newton's method \\[5\\]. Newton's algorithm works by producing successively better approximations of the roots (or zeroes) of a real-valued function \\[6\\]. The algorithm starts by taking some approximation of the square root ($x_{k}$) and then iteratively applying the below formula until $|x_{{k + 1}} - x_{{k}}| < 1 $ \\[5\\].\n",
    "\n",
    "$$ x_{k+1} = \\frac{1}{2}\\left(x_{k} + \\frac{n}{x_{k}}\\right) $$\n",
    "\n",
    "Assuming the value $x_{k}$ is close enough to the root, then $x_{k+1}$ will be even closer to the desired root. The rate of convergence is quadratic, meaning that the number of digits in the approximate value ($x_{k}$) doubles with each iteration [7]."
   ]
  },
  {
   "cell_type": "markdown",
   "metadata": {},
   "source": [
    "### Solution"
   ]
  },
  {
   "cell_type": "markdown",
   "metadata": {},
   "source": [
    "Below is my solution to task one. I start by defining a function, `isqrt()` that calculates the integer square root of a number. I then define the `sqrt2()` function which uses `isqrt()` to calculate the square root of 2 to 100 decimal places and print the result to the screen."
   ]
  },
  {
   "cell_type": "code",
   "execution_count": 2,
   "metadata": {},
   "outputs": [],
   "source": [
    "def isqrt(n: int) -> int:\n",
    "    \"\"\"\n",
    "    Calculates the integer square root of `n` using Newton's method.\n",
    "    :return: the integer square root of `n`.\n",
    "    :raises ValueError: If `n` is not a positive integer.\n",
    "    \"\"\"\n",
    "    # Code adapted from: user448810 - https://stackoverflow.com/a/15391420\n",
    "    \n",
    "    if (n <= 0):\n",
    "        raise ValueError(\"n must be a positive integer\")\n",
    "    \n",
    "    # Set an initial guess for k\n",
    "    k = n // 2\n",
    "\n",
    "    while True:\n",
    "        # Cache the previous value of k\n",
    "        prev_k = k\n",
    "        \n",
    "        # Apply the formula\n",
    "        k = (k + (n // k)) // 2\n",
    "\n",
    "        # Check loop stop condition\n",
    "        if (prev_k - k) < 1:\n",
    "            break\n",
    "        \n",
    "    return k"
   ]
  },
  {
   "cell_type": "code",
   "execution_count": 3,
   "metadata": {},
   "outputs": [],
   "source": [
    "def sqrt2():\n",
    "    \"\"\"\n",
    "    Calculates and prints to the screen the square root of 2 to 100 decimal places.\n",
    "    \"\"\"\n",
    "    # Set the number of places to show after the decimal point\n",
    "    precision = 100\n",
    "\n",
    "    # Get the integer square root of 2 x 10^200\n",
    "    # Reference: Eugene Yarmash - https://stackoverflow.com/a/32651586\n",
    "    result = str(isqrt(2 * 10 ** (2 * precision)))\n",
    "\n",
    "    # Insert the decimal point\n",
    "    result = result[:1] + '.' + result[1:]\n",
    "\n",
    "    # Output the result\n",
    "    print(result)"
   ]
  },
  {
   "cell_type": "markdown",
   "metadata": {},
   "source": [
    "### Testing"
   ]
  },
  {
   "cell_type": "markdown",
   "metadata": {},
   "source": [
    "In order to illustrate the function's accuracy, we can compare the output of the standard library's `math.sqrt()` function with the above `sqrt2()` function."
   ]
  },
  {
   "cell_type": "code",
   "execution_count": 4,
   "metadata": {},
   "outputs": [
    {
     "name": "stdout",
     "output_type": "stream",
     "text": [
      "1.4142135623730951\n",
      "1.4142135623730950488016887242096980785696718753769480731766797379907324784621070388503875343276415727\n"
     ]
    }
   ],
   "source": [
    "from math import sqrt\n",
    "\n",
    "print(sqrt(2))\n",
    "sqrt2()"
   ]
  },
  {
   "cell_type": "markdown",
   "metadata": {},
   "source": [
    "We'll find that both functions appear to output the same number, but since `math.sqrt()` returns a float it can only represent the number up to about 16 decimal places. We can however do better by comparing our result to that given by the `sqrt()` function provided by Pyhon's built-in `decimal` module. Doing so, we find both functions produce the same value."
   ]
  },
  {
   "cell_type": "code",
   "execution_count": 5,
   "metadata": {},
   "outputs": [
    {
     "name": "stdout",
     "output_type": "stream",
     "text": [
      "1.4142135623730950488016887242096980785696718753769480731766797379907324784621070388503875343276415727\n",
      "1.4142135623730950488016887242096980785696718753769480731766797379907324784621070388503875343276415727\n"
     ]
    }
   ],
   "source": [
    "from decimal import (\n",
    "    getcontext,\n",
    "    Decimal\n",
    ")\n",
    "\n",
    "getcontext().prec = 101\n",
    "result = Decimal(2).sqrt()\n",
    "\n",
    "print(result)\n",
    "sqrt2()"
   ]
  },
  {
   "cell_type": "markdown",
   "metadata": {},
   "source": [
    "## Task 2: Chi-squared Test for Independence"
   ]
  },
  {
   "cell_type": "markdown",
   "metadata": {},
   "source": [
    ">*The Chi-squared test for independence is a statistical hypothesis test like a t-test. It is used to analyse whether two categorical variables are independent. The [Wikipedia](https://en.wikipedia.org/w/index.php?title=Chi-squared_test&oldid=983024096) article gives the table below as an example, stating the Chi-squared value based on it is approximately 24.6. Use `scipy.stats` to verify this value and calculate the associated p value. You should include a short note with references justifying your analysis in a markdown cell.*\n",
    "\n",
    "|   | A | B | C | D | Total |\n",
    "| - | - | - | - | - | ----- |\n",
    "| White collar | 90 | 60 | 104 | 95 | 349 |\n",
    "| Blue collar  | 30 | 50 | 51 | 20 | 151 |\n",
    "| No collar    | 30 | 40 | 45 | 35 | 150 |\n",
    "| **Total**        | 150 | 150 | 200 | 150 | 650 |"
   ]
  },
  {
   "cell_type": "markdown",
   "metadata": {},
   "source": [
    "### Solution"
   ]
  },
  {
   "cell_type": "code",
   "execution_count": 6,
   "metadata": {},
   "outputs": [
    {
     "name": "stdout",
     "output_type": "stream",
     "text": [
      "Result: 24.6\n",
      "p value: 0.0004098425861096696\n"
     ]
    }
   ],
   "source": [
    "from scipy.stats import chi2_contingency\n",
    "import numpy as np\n",
    "\n",
    "# Express the values in the table as a NumPy array\n",
    "table = np.array ([\n",
    "    [90, 60, 104, 95],\n",
    "    [30, 50, 51, 20],\n",
    "    [30, 40, 45, 35],\n",
    "])\n",
    "\n",
    "result, p, _, expected = chi2_contingency(table)\n",
    "\n",
    "print(f\"Result: {round(result, 1)}\")\n",
    "print(f\"p value: {p}\")"
   ]
  },
  {
   "cell_type": "markdown",
   "metadata": {},
   "source": [
    "### Justification & Analysis"
   ]
  },
  {
   "cell_type": "markdown",
   "metadata": {},
   "source": [
    "The `chi2_contingency` function provided by `scipy.stats` is used to compute the chi-square statistic and *p* value of the frequencies in the given contingency table. In its simplest form, the function takes an `array_like` object containing the observed frequencies in each category [8]. In the code above, we express the values in the table as a two dimensional NumPy array and pass that into the `chi2_contingency` function. The function returns a 4-tuple [8], however for the purposes of this task we are only really interested in the first two values, the test statistic and the *p* value.\n",
    "\n",
    "Using the above function, we quickly find the test statistic value is approximately 24.6, thus verifying that the value from the Wikipedia article is accurate.\n",
    "\n",
    "#### How it Works\n",
    "\n",
    "The chi-squared test for independence compares our sample data in the contingency table to the distribution of values we'd expect if the null hypothesis is correct (the null hypothesis being that the variables are independent) [9]. This means in order to calculate the test statistic, we must first construct the contingency table we’d expect to see if the null hypothesis is true [9]. The expected value ($E$) of a given cell in the table is found using the below formula [9] and is calculated automatically by the `chi2_contingency` function [8].\n",
    "\n",
    "$$\n",
    "E = \\frac{(row\\ total)(column\\ total)}{sample\\ size}\n",
    "$$"
   ]
  },
  {
   "cell_type": "markdown",
   "metadata": {},
   "source": [
    "In the below code cell I'll use pandas to output a table of the expected values returned by `chi2_contingency`."
   ]
  },
  {
   "cell_type": "code",
   "execution_count": 7,
   "metadata": {},
   "outputs": [
    {
     "name": "stdout",
     "output_type": "stream",
     "text": [
      "Expected values if the null hypothesis is correct, as calculated by chi2_contingency:\n"
     ]
    },
    {
     "data": {
      "text/html": [
       "<div>\n",
       "<style scoped>\n",
       "    .dataframe tbody tr th:only-of-type {\n",
       "        vertical-align: middle;\n",
       "    }\n",
       "\n",
       "    .dataframe tbody tr th {\n",
       "        vertical-align: top;\n",
       "    }\n",
       "\n",
       "    .dataframe thead th {\n",
       "        text-align: right;\n",
       "    }\n",
       "</style>\n",
       "<table border=\"1\" class=\"dataframe\">\n",
       "  <thead>\n",
       "    <tr style=\"text-align: right;\">\n",
       "      <th></th>\n",
       "      <th>A</th>\n",
       "      <th>B</th>\n",
       "      <th>C</th>\n",
       "      <th>D</th>\n",
       "    </tr>\n",
       "  </thead>\n",
       "  <tbody>\n",
       "    <tr>\n",
       "      <th>White collar</th>\n",
       "      <td>80.54</td>\n",
       "      <td>80.54</td>\n",
       "      <td>107.38</td>\n",
       "      <td>80.54</td>\n",
       "    </tr>\n",
       "    <tr>\n",
       "      <th>Blue collar</th>\n",
       "      <td>34.85</td>\n",
       "      <td>34.85</td>\n",
       "      <td>46.46</td>\n",
       "      <td>34.85</td>\n",
       "    </tr>\n",
       "    <tr>\n",
       "      <th>No collar</th>\n",
       "      <td>34.62</td>\n",
       "      <td>34.62</td>\n",
       "      <td>46.15</td>\n",
       "      <td>34.62</td>\n",
       "    </tr>\n",
       "  </tbody>\n",
       "</table>\n",
       "</div>"
      ],
      "text/plain": [
       "                  A      B       C      D\n",
       "White collar  80.54  80.54  107.38  80.54\n",
       "Blue collar   34.85  34.85   46.46  34.85\n",
       "No collar     34.62  34.62   46.15  34.62"
      ]
     },
     "execution_count": 7,
     "metadata": {},
     "output_type": "execute_result"
    }
   ],
   "source": [
    "import pandas as pd\n",
    "\n",
    "df = pd.DataFrame(columns=['A', 'B', 'C', 'D'])\n",
    "df.loc[\"White collar\"] = expected[0]\n",
    "df.loc[\"Blue collar\"] = expected[1]\n",
    "df.loc[\"No collar\"] = expected[2]\n",
    "\n",
    "print(\"Expected values if the null hypothesis is correct, as calculated by chi2_contingency:\")\n",
    "df.round(2)"
   ]
  },
  {
   "cell_type": "markdown",
   "metadata": {},
   "source": [
    "The test statistic ($X^2$) then, is calculated by finding the sum of the squared differences between each pair of observed and expected values [9]. It is expressed by the below formula, where $O$ is the observed value and $E$ is the expected value [9]. Applying this formula over all of the cells in our table and then summing the result calculates the test statistic [9], which is the first value returned by the `chi2_contingency` function. \n",
    "\n",
    "$$\n",
    "X^2 = \\sum{\\frac{(O - E)^2}{E}}\n",
    "$$\n",
    "\n",
    "#### The Test Statistic\n",
    "\n",
    "In this example the value of the test statistic is 24.6, but if all the observed frequencies were equal to the expected frequencies, then the value would equal zero. A result of zero indicates the sample data exactly matches what we'd expect if the null hypothesis is correct [9]. Larger values indicate a more substantial divergence between our observed data and the null hypothesis [9]."
   ]
  },
  {
   "cell_type": "markdown",
   "metadata": {},
   "source": [
    "## Task 3: Standard Deviation"
   ]
  },
  {
   "cell_type": "markdown",
   "metadata": {},
   "source": [
    ">*The standard deviation of an array of numbers `x` is calculated using `numpy` as `np.sqrt(np.sum((x - np.mean(x))**2)/len(x))`. However, Microsoft Excel has two different versions of the standard deviation calculation, `STDDEV.P` and `STDDEV.S`. The `STDDEV.P` function performs the above calculation but in the `STDDEV.S` calculation the division is by `len(x)-1` rather than `len(x)`. Research these Excel functions, writing a note in a Markdown cell about the difference between them. Then use `numpy` to perform a simulation demonstrating that the `STDDEV.S` calculation is a better estimate for the standard deviation of a population when performed on a sample. Note that part of this task is to figure out the terminology in the previous sentence.*"
   ]
  },
  {
   "cell_type": "markdown",
   "metadata": {},
   "source": [
    "### Microsoft Excel's STDEV Functions"
   ]
  },
  {
   "cell_type": "markdown",
   "metadata": {},
   "source": [
    "Standard deviation (SD) is a measure of the spread of a data distribution. It measures the typical distance between each data point and the mean [10]. The formula used to calculate the SD of a dataset differs depending on whether the data is being considered a population of its own, or as a *sample* of a larger population [10]. A dataset is termed a population if it contains all the members of a specified group (i.e. if it contains the entire list of possible data values) [11]. A sample on the other hand, contains only a subset of a population and the size of a sample is always less than the size of the population from which it was taken [11].\n",
    "\n",
    "In Microsoft Excel, the function `STDEV.S` should be used to estimate the SD when given a sample of values, whereas `STDEV.P` should be used to calculate the SD based on an entire population [12].\n",
    "\n",
    "#### Bessel's Correction\n",
    "\n",
    "Naturally, performing calculations on a sample is less accurate than performing calculations on a population as not all of the data is available. Bessel's correction is an adjustment made to correct for the bias that occurs when working with sample data and is used to provide a better estimation of the standard deviation of a population [12]. When performing standard deviation calculations, Bessel's correction is applied by subtracting 1 from the sample size (i.e. it's applied by dividing by `len(x) - 1` instead of `len(x)`) [12].\n",
    "\n",
    "The main difference between the `STDEV.S` function and the `STDEV.P` function is the former makes use of Bessel's correction while the latter does not [12]. Because of this distinction, the `STDEV.S` function is better suited for estimating the standard deviation of a dataset when provided with only a sample of a larger population. This is illustrated in the below example."
   ]
  },
  {
   "cell_type": "markdown",
   "metadata": {},
   "source": [
    "### Example Using NumPy"
   ]
  },
  {
   "cell_type": "markdown",
   "metadata": {},
   "source": [
    "Assume in a class of 20 students the following results were awarded in an exam: (17, 98, 80, 14, 79, 78, 82, 96, 20, 55, 62, 1, 93, 63, 63, 2, 9, 4, 30, 81).\n",
    "\n",
    "The size of our population is 20 and we can find the standard deviation by calculating the population standard deviation of this dataset. Doing so, we find the value of `STDEV.P` is approximately 34.23."
   ]
  },
  {
   "cell_type": "code",
   "execution_count": 8,
   "metadata": {},
   "outputs": [
    {
     "name": "stdout",
     "output_type": "stream",
     "text": [
      "STDEV.P of all 20 results: 34.23196605513624\n"
     ]
    }
   ],
   "source": [
    "import numpy as np\n",
    "\n",
    "\n",
    "def stdev(x: [float], sample=True) -> float:\n",
    "    \"\"\"\n",
    "    Calculates the standard deviation of a list of numbers.\n",
    "\n",
    "    Calling `stdev(nums, sample=False)` is equivalent to using STDEV.P in Excel,\n",
    "    while `stdev(nums)` is equivalent to using STDEV.S.\n",
    "\n",
    "    :param x: The list of numbers.\n",
    "    :param sample: Should be `True` if the the data in `x` is a sample, `False` if it's a population.\n",
    "    :return: The standard deviation of `x`.\n",
    "    \"\"\"\n",
    "    divisor = len(x) if not sample else len(x) - 1\n",
    "    return np.sqrt(np.sum((x - np.mean(x)) ** 2) / divisor)\n",
    "\n",
    "\n",
    "# Define our results dataset\n",
    "results = [\n",
    "    17, 98, 80, 14, 79, 78, 82, 96, 20, 55, 62, 1, 93, 63, 63, 2, 9, 4, 30, 81\n",
    "]\n",
    "\n",
    "# Calculate the population SD of all the `results`\n",
    "p_full = stdev(results, sample=False)\n",
    "\n",
    "print(f\"STDEV.P of all {len(results)} results: {p_full}\")"
   ]
  },
  {
   "cell_type": "markdown",
   "metadata": {},
   "source": [
    "However, if we now take the first 10 of these test results (i.e. take a sample) and apply both the `STDEV.S` function and the `STDEV.P` function, we will find that the `STDEV.S` function returns a value that is much closer to the population standard deviation found above. In other words, we see that the `STDEV.S` function provides a better estimate of the standard deviation of our population when performed on a sample."
   ]
  },
  {
   "cell_type": "code",
   "execution_count": 9,
   "metadata": {},
   "outputs": [
    {
     "name": "stdout",
     "output_type": "stream",
     "text": [
      "STDEV.P of first 10 results: 31.405254337451243\n",
      "STDEV.S of first 10 results: 33.10404473440939\n"
     ]
    }
   ],
   "source": [
    "# Now take a sample of the first 10 results & find both sample and population SD\n",
    "sample_size = 10\n",
    "sample_results = results[:sample_size]\n",
    "\n",
    "p_sample = stdev(sample_results, sample=False)\n",
    "s = stdev(sample_results)\n",
    "\n",
    "print(f\"STDEV.P of first {sample_size} results: {p_sample}\")\n",
    "print(f\"STDEV.S of first {sample_size} results: {s}\")"
   ]
  },
  {
   "cell_type": "markdown",
   "metadata": {},
   "source": [
    "## Task 4: k-means Clustering with the Iris Dataset"
   ]
  },
  {
   "cell_type": "markdown",
   "metadata": {},
   "source": [
    ">*Use `scikit-learn` to apply k-means clustering to Fisher's famous Iris data set. You will easily obtain a copy of the data set on-line. Explain in a Markdown cell how your code works and how accurate it might be, and then explain how your model could be used to make predictions of species of iris.*"
   ]
  },
  {
   "cell_type": "markdown",
   "metadata": {},
   "source": [
    "### What is k-means Clustering?"
   ]
  },
  {
   "cell_type": "markdown",
   "metadata": {},
   "source": [
    "The objective of k-means clustering is to group together similar data points and discover underlying patterns by looking for a fixed number ($k$) of clusters in a dataset [13]. The k-means algorithm identifies $k$ number of centroids, and then allocates each data point to the nearest cluster, while keeping the centroids as small as possible [13].\n",
    "\n",
    "A *cluster* refers to a collection of data points aggregated together because of certain similarities [13], while a *centroid* is the mean position of the points in a cluster [14].\n",
    "\n",
    "#### How it works\n",
    "\n",
    "First, the k-means algorithm is provided with the number of clusters ($k$) that should be used to partition the data. It then randomly selects $k$ points from the dataset to use as the initial centroids. Each point in the dataset is then assigned a cluster based on its nearest centroid [14]. The algorithm then performs iterative calculations in order to best optimize the positions of the centroids [13].\n",
    "\n",
    "#### Accuracy\n",
    "Because the initial centroids are chosen randomly, k-means will likely give different results each time it is run [14]. Furthermore, the clusters are assumed to be spherical and evenly sized, something which may reduce the accuracy of the k-means clustering results [13]."
   ]
  },
  {
   "cell_type": "markdown",
   "metadata": {},
   "source": [
    "### Apply k-means Clustering to the Iris data set"
   ]
  },
  {
   "cell_type": "markdown",
   "metadata": {},
   "source": [
    "The iris data set contains measurements for the sepal length & width and petal length & width of 50 flowers from each of the 3 species of iris. We'll begin by importing the neccessary packages and then reading in the iris dataset. Luckily the `sklearn` package provides the iris dataset out of the box and we can read in the data by calling the `sklearn.datasets.load_iris()` function."
   ]
  },
  {
   "cell_type": "code",
   "execution_count": 10,
   "metadata": {},
   "outputs": [],
   "source": [
    "import numpy as np\n",
    "import matplotlib.pyplot as plt\n",
    "import sklearn.cluster as skcl\n",
    "from sklearn.datasets import load_iris\n",
    "\n",
    "# Read in the data\n",
    "# Ref: https://scikit-learn.org/stable/modules/generated/sklearn.datasets.load_iris.html\n",
    "iris = load_iris()"
   ]
  },
  {
   "cell_type": "markdown",
   "metadata": {},
   "source": [
    "We can pass the data set to a pandas dataframe and print out the first few rows in order to make it easier to visualise what is contained in this dataset. We'll see each row in the data has four columns: sepal length, sepal width, petal length and petal width."
   ]
  },
  {
   "cell_type": "code",
   "execution_count": 11,
   "metadata": {},
   "outputs": [
    {
     "data": {
      "text/html": [
       "<div>\n",
       "<style scoped>\n",
       "    .dataframe tbody tr th:only-of-type {\n",
       "        vertical-align: middle;\n",
       "    }\n",
       "\n",
       "    .dataframe tbody tr th {\n",
       "        vertical-align: top;\n",
       "    }\n",
       "\n",
       "    .dataframe thead th {\n",
       "        text-align: right;\n",
       "    }\n",
       "</style>\n",
       "<table border=\"1\" class=\"dataframe\">\n",
       "  <thead>\n",
       "    <tr style=\"text-align: right;\">\n",
       "      <th></th>\n",
       "      <th>sepal length (cm)</th>\n",
       "      <th>sepal width (cm)</th>\n",
       "      <th>petal length (cm)</th>\n",
       "      <th>petal width (cm)</th>\n",
       "    </tr>\n",
       "  </thead>\n",
       "  <tbody>\n",
       "    <tr>\n",
       "      <th>0</th>\n",
       "      <td>5.1</td>\n",
       "      <td>3.5</td>\n",
       "      <td>1.4</td>\n",
       "      <td>0.2</td>\n",
       "    </tr>\n",
       "    <tr>\n",
       "      <th>1</th>\n",
       "      <td>4.9</td>\n",
       "      <td>3.0</td>\n",
       "      <td>1.4</td>\n",
       "      <td>0.2</td>\n",
       "    </tr>\n",
       "    <tr>\n",
       "      <th>2</th>\n",
       "      <td>4.7</td>\n",
       "      <td>3.2</td>\n",
       "      <td>1.3</td>\n",
       "      <td>0.2</td>\n",
       "    </tr>\n",
       "    <tr>\n",
       "      <th>3</th>\n",
       "      <td>4.6</td>\n",
       "      <td>3.1</td>\n",
       "      <td>1.5</td>\n",
       "      <td>0.2</td>\n",
       "    </tr>\n",
       "    <tr>\n",
       "      <th>4</th>\n",
       "      <td>5.0</td>\n",
       "      <td>3.6</td>\n",
       "      <td>1.4</td>\n",
       "      <td>0.2</td>\n",
       "    </tr>\n",
       "  </tbody>\n",
       "</table>\n",
       "</div>"
      ],
      "text/plain": [
       "   sepal length (cm)  sepal width (cm)  petal length (cm)  petal width (cm)\n",
       "0                5.1               3.5                1.4               0.2\n",
       "1                4.9               3.0                1.4               0.2\n",
       "2                4.7               3.2                1.3               0.2\n",
       "3                4.6               3.1                1.5               0.2\n",
       "4                5.0               3.6                1.4               0.2"
      ]
     },
     "execution_count": 11,
     "metadata": {},
     "output_type": "execute_result"
    }
   ],
   "source": [
    "df = pd.DataFrame(data=iris['data'], columns=iris['feature_names'])\n",
    "df.head()"
   ]
  },
  {
   "cell_type": "markdown",
   "metadata": {},
   "source": [
    "In order to apply k-means clustering, we must provide scikit-learn with a value representing the number of clusters in our dataset. As there are three species of iris flower in the dataset, I'll pass in a value of three."
   ]
  },
  {
   "cell_type": "code",
   "execution_count": 12,
   "metadata": {},
   "outputs": [],
   "source": [
    "kmeans = skcl.KMeans(n_clusters=3).fit(iris.data)"
   ]
  },
  {
   "cell_type": "markdown",
   "metadata": {},
   "source": [
    "We can use the `labels_` property to see how the k-means algorithm has separated the data into clusters. We will see there are three clusters in total, with each cluster denoted by a number from 0 through 2."
   ]
  },
  {
   "cell_type": "code",
   "execution_count": 13,
   "metadata": {},
   "outputs": [
    {
     "data": {
      "text/plain": [
       "array([1, 1, 1, 1, 1, 1, 1, 1, 1, 1, 1, 1, 1, 1, 1, 1, 1, 1, 1, 1, 1, 1,\n",
       "       1, 1, 1, 1, 1, 1, 1, 1, 1, 1, 1, 1, 1, 1, 1, 1, 1, 1, 1, 1, 1, 1,\n",
       "       1, 1, 1, 1, 1, 1, 2, 2, 0, 2, 2, 2, 2, 2, 2, 2, 2, 2, 2, 2, 2, 2,\n",
       "       2, 2, 2, 2, 2, 2, 2, 2, 2, 2, 2, 0, 2, 2, 2, 2, 2, 2, 2, 2, 2, 2,\n",
       "       2, 2, 2, 2, 2, 2, 2, 2, 2, 2, 2, 2, 0, 2, 0, 0, 0, 0, 2, 0, 0, 0,\n",
       "       0, 0, 0, 2, 2, 0, 0, 0, 0, 2, 0, 2, 0, 2, 0, 0, 2, 2, 0, 0, 0, 0,\n",
       "       0, 2, 0, 0, 0, 0, 2, 0, 0, 0, 2, 0, 0, 0, 2, 0, 0, 2])"
      ]
     },
     "execution_count": 13,
     "metadata": {},
     "output_type": "execute_result"
    }
   ],
   "source": [
    "kmeans.labels_"
   ]
  },
  {
   "cell_type": "markdown",
   "metadata": {},
   "source": [
    "In order to visualise the result, we can easily make a scatter plot of the three clusters using Matplotlib. We can also find the centroid of each respective cluster and include that in the plot."
   ]
  },
  {
   "cell_type": "code",
   "execution_count": 14,
   "metadata": {},
   "outputs": [
    {
     "data": {
      "text/plain": [
       "<matplotlib.legend.Legend at 0x2822666cb20>"
      ]
     },
     "execution_count": 14,
     "metadata": {},
     "output_type": "execute_result"
    },
    {
     "data": {
      "image/png": "[encoded data removed]",
      "text/plain": [
       "<Figure size 432x288 with 1 Axes>"
      ]
     },
     "metadata": {
      "needs_background": "light"
     },
     "output_type": "display_data"
    }
   ],
   "source": [
    "# Plot the data set\n",
    "plt.plot(iris.data[kmeans.labels_ == 0][:,0], iris.data[kmeans.labels_ == 0][:,1], 'gx', label = 'setosa')\n",
    "plt.plot(iris.data[kmeans.labels_ == 1][:,0], iris.data[kmeans.labels_ == 1][:,1], 'rx', label = 'versicolour')\n",
    "plt.plot(iris.data[kmeans.labels_ == 2][:,0], iris.data[kmeans.labels_ == 2][:,1], 'bx', label = 'virginica')\n",
    "\n",
    "# Plot the centroids of the clusters\n",
    "plt.plot(kmeans.cluster_centers_[:,0], kmeans.cluster_centers_[:,1], 'ko', label = 'Centroids')\n",
    "\n",
    "plt.legend()"
   ]
  },
  {
   "cell_type": "markdown",
   "metadata": {},
   "source": [
    "### Making Predictions"
   ]
  },
  {
   "cell_type": "markdown",
   "metadata": {},
   "source": [
    "In order to demonstrate how k-means can make predictions as to which cluster a given data point will belong, I'll pass in a sequence of random points into the `kmeans.predict()` function."
   ]
  },
  {
   "cell_type": "code",
   "execution_count": 15,
   "metadata": {},
   "outputs": [
    {
     "data": {
      "text/plain": [
       "array([1, 1, 1, 2, 2, 2, 0, 0, 0, 0])"
      ]
     },
     "execution_count": 15,
     "metadata": {},
     "output_type": "execute_result"
    }
   ],
   "source": [
    "# Create new dummy points for classification\n",
    "sepal_w = np.linspace(4.0, 8.0, 10)\n",
    "sepal_l = np.linspace(1.5, 5.0, 10)\n",
    "petal_w = np.linspace(1.0, 8.0, 10)\n",
    "petal_l = np.linspace(-1.0, 4.0, 10)\n",
    "\n",
    "newvals = np.vstack([\n",
    "    sepal_w,\n",
    "    sepal_l,\n",
    "    petal_w,\n",
    "    petal_l\n",
    "]).T\n",
    "\n",
    "# Predict the cluster for the above points\n",
    "predictions = kmeans.predict(newvals)\n",
    "predictions"
   ]
  },
  {
   "cell_type": "markdown",
   "metadata": {},
   "source": [
    "This function returns an NumPy array of the predicted cluster for our test data points. In this instance, a value of $0$ indicates a point belongs to the red cluster (setosa), a value of $1$ indicates a point belongs to the green cluster (versicolour), and so on. We can plot each of the above points to show where they appear on our graph."
   ]
  },
  {
   "cell_type": "code",
   "execution_count": 16,
   "metadata": {},
   "outputs": [
    {
     "data": {
      "text/plain": [
       "[<matplotlib.lines.Line2D at 0x28226759100>]"
      ]
     },
     "execution_count": 16,
     "metadata": {},
     "output_type": "execute_result"
    },
    {
     "data": {
      "image/png": "[encoded data removed]",
      "text/plain": [
       "<Figure size 432x288 with 1 Axes>"
      ]
     },
     "metadata": {
      "needs_background": "light"
     },
     "output_type": "display_data"
    }
   ],
   "source": [
    "# Re-plot the data set\n",
    "plt.plot(iris.data[kmeans.labels_ == 0][:,0], iris.data[kmeans.labels_ == 0][:,1], 'gx', label = 'setosa')\n",
    "plt.plot(iris.data[kmeans.labels_ == 1][:,0], iris.data[kmeans.labels_ == 1][:,1], 'rx', label = 'versicolour')\n",
    "plt.plot(iris.data[kmeans.labels_ == 2][:,0], iris.data[kmeans.labels_ == 2][:,1], 'bx', label = 'virginica')\n",
    "\n",
    "# Plot the predicted value as a diamond shape\n",
    "plt.plot(newvals[predictions == 0][:,0], newvals[predictions == 0][:,1], 'gD', label = 'predicted')\n",
    "plt.plot(newvals[predictions == 1][:,0], newvals[predictions == 1][:,1], 'rD', label = 'predicted')\n",
    "plt.plot(newvals[predictions == 2][:,0], newvals[predictions == 2][:,1], 'bD', label = 'predicted')"
   ]
  },
  {
   "cell_type": "markdown",
   "metadata": {},
   "source": [
    "## References"
   ]
  },
  {
   "cell_type": "markdown",
   "metadata": {},
   "source": [
    "1. [*Floating Point Arithmetic: Issues and Limitations*](https://docs.python.org/3/tutorial/floatingpoint.html). The Python 3 Standard Library Documentation.\n",
    "2. [*The Perils of Floating Point*](http://www.lahey.com/float.htm). Bush, Bruce M. Lahey Computer Systems, Inc.\n",
    "3. [*Double-precision floating-point format*](https://en.wikipedia.org/wiki/Double-precision_floating-point_format). Wikipedia, the free encyclopedia.\n",
    "4. [*Built-in Types*](https://docs.python.org/3/library/stdtypes.html). The Python 3 Standard Library Documentation.\n",
    "5. [*Integer square root*](https://en.wikipedia.org/wiki/Integer_square_root). Wikipedia, the free encyclopedia.\n",
    "6. [*Newton's Method*](https://en.wikipedia.org/wiki/Newton%27s_method). Wikipedia, the free encyclopedia.\n",
    "7. [*Newton's method for finding roots*](https://cp-algorithms.com/num_methods/roots_newton.html). CP-Algorithms.\n",
    "8. [*scipy.stats.chi2_contingency*](https://docs.scipy.org/doc/scipy/reference/generated/scipy.stats.chi2_contingency.html). SciPy.org documentation.\n",
    "9. [*How the Chi-Squared Test of Independence Works*](https://statisticsbyjim.com/hypothesis-testing/chi-squared-independence/). Frost, Jim. Statistics By Jim.\n",
    "10. [*Population and sample standard deviation review*](https://www.khanacademy.org/math/statistics-probability/summarizing-quantitative-data/variance-standard-deviation-sample/a/population-and-sample-standard-deviation-review). Khan Academy.\n",
    "11. [*Population vs Sample Data*](http://mathbitsnotebook.com/Algebra1/StatisticsData/STPopSample.html). Roberts, Donna. MathBitsNotebook.\n",
    "12. [*Standard deviation calculation*](https://exceljet.net/formula/standard-deviation-calculation). Exceljet.\n",
    "13. [*Understanding K-means Clustering in Machine Learning*](https://towardsdatascience.com/understanding-k-means-clustering-in-machine-learning-6a6e67336aa1). Towards Data Science. Dr. Michael J. Garbade.\n",
    "14. [*K-Means*](https://www.scss.tcd.ie/~munnellg/projects/kmeans.html). TCD. Gary Munnelly."
   ]
  }
 ],
 "metadata": {
  "kernelspec": {
   "display_name": "Python 3",
   "language": "python",
   "name": "python3"
  },
  "language_info": {
   "codemirror_mode": {
    "name": "ipython",
    "version": 3
   },
   "file_extension": ".py",
   "mimetype": "text/x-python",
   "name": "python",
   "nbconvert_exporter": "python",
   "pygments_lexer": "ipython3",
   "version": "3.8.3"
  }
 },
 "nbformat": 4,
 "nbformat_minor": 4
}
