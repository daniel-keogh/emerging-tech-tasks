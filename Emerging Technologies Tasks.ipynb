{
 "cells": [
  {
   "cell_type": "markdown",
   "metadata": {},
   "source": [
    "# Emerging Technologies Tasks"
   ]
  },
  {
   "cell_type": "markdown",
   "metadata": {},
   "source": [
    "My solutions to the Emerging Technologies tasks assessment."
   ]
  },
  {
   "cell_type": "markdown",
   "metadata": {},
   "source": [
    "## Contents"
   ]
  },
  {
   "cell_type": "markdown",
   "metadata": {},
   "source": [
    "- [Task 1: Square Root of 2](#Task-1:-Square-Root-of-2)"
   ]
  },
  {
   "cell_type": "markdown",
   "metadata": {},
   "source": [
    "## Task 1: Square Root of 2"
   ]
  },
  {
   "cell_type": "markdown",
   "metadata": {},
   "source": [
    ">Write a Python function called `sqrt2` that calculates and prints to the screen the square root of 2 to 100 decimal places.\n",
    ">Your code should not depend on any module from the standard library or otherwise. You should research the task first and include references and a description of your algorithm."
   ]
  },
  {
   "cell_type": "markdown",
   "metadata": {},
   "source": [
    "### Algorithm Description"
   ]
  },
  {
   "cell_type": "markdown",
   "metadata": {},
   "source": [
    "Before discussing the algorithm used to solve this problem, it is neccessary to first provide some backgound on floating point numbers. "
   ]
  },
  {
   "cell_type": "markdown",
   "metadata": {},
   "source": [
    "#### Floating Point Numbers"
   ]
  },
  {
   "cell_type": "markdown",
   "metadata": {},
   "source": [
    "Floating point numbers are used to represent fractional values and are stored in a computer as base 2 (binary) fractions. Most decimal fractions cannot be accurately represented as binary fractions and as a result, decimal floating-point numbers are only approximated by the binary floating-point numbers actually stored in the machine [1]. For instance, the summation of $0.1$ and $0.2$ yields a result of $0.3$ in decimal. However, the result of this computation cannot be accurately represented in binary (see below)."
   ]
  },
  {
   "cell_type": "code",
   "execution_count": 1,
   "metadata": {},
   "outputs": [
    {
     "data": {
      "text/plain": [
       "0.30000000000000004"
      ]
     },
     "execution_count": 1,
     "metadata": {},
     "output_type": "execute_result"
    }
   ],
   "source": [
    "0.1 + 0.2"
   ]
  },
  {
   "cell_type": "markdown",
   "metadata": {},
   "source": [
    "The IEEE standard defines 32-bit and 64-bit floating-point representations. The 32-bit (single-precision) format consists of a sign bit, an 8-bit exponent and 23 bits of mantissa. The 64-bit (double-precision) format consists of a sign bit, an 11-bit exponent and 52 bits of mantissa. Floating-point arithmetic on computers is therefore inherently inexact as the 24 bits of mantissa in a 32-bit floating-point number can only represent approximately 7 significant decimal digits (for doubles this is 15-17 decimal digits [3]). If a number is not exactly representable, then it must instead be approximated [2].\n",
    "\n",
    "Python's float type has double-precision [1], and it is therefore not possible to store a number with 100 decimal places as a float. However, in Python integers have unlimited precision [4], so one approach to the given problem is to store all the significant digits of $\\sqrt2$ as an integer. Finding the square root of a given number $p$, as an integer can be achieved by calculating the *integer square root* of $p*10^{2 * q}$, where $q$ is the number of digits after the decimal point, in this case 100."
   ]
  },
  {
   "cell_type": "markdown",
   "metadata": {},
   "source": [
    "#### Finding the Integer Square Root using Newton's Method"
   ]
  },
  {
   "cell_type": "markdown",
   "metadata": {},
   "source": [
    "The integer square root of a number $n$ is the greatest positive integer less than or equal to the square root of $n$ [5], and can be found using Newton's method. Newton's algorithm works by producing successively better approximations of the roots (or zeroes) of a real-valued function [6]. It starts with some guess $z$, and then adjusts $z$ based on how close $z^{2}$ is to $x$, producing a better guess [7]. The process is continuously repeated until a sufficiently accurate value is reached."
   ]
  },
  {
   "cell_type": "markdown",
   "metadata": {},
   "source": [
    "### Solution"
   ]
  },
  {
   "cell_type": "markdown",
   "metadata": {},
   "source": [
    "Below is my solution to task one. I start by defining a function, `isqrt` that calculates the integer square root of a number. I then define the `sqrt2` function which uses `isqrt` to calculate the square root of 2 to 100 decimal places and prints the result to the screen."
   ]
  },
  {
   "cell_type": "code",
   "execution_count": 2,
   "metadata": {},
   "outputs": [],
   "source": [
    "def isqrt(n: int) -> int:\n",
    "    \"\"\"\n",
    "    Calculates the integer square root of `n` using Newton's method.\n",
    "    :return: the integer square root of `n`.\n",
    "    \"\"\"\n",
    "    # Reference: user448810 - https://stackoverflow.com/a/15391420\n",
    "    x = n\n",
    "\n",
    "    # Calculate the initial guess value\n",
    "    z = (x + 1) // 2\n",
    "\n",
    "    while z < x:\n",
    "        x = z\n",
    "        z = (x + n // x) // 2\n",
    "\n",
    "    return x"
   ]
  },
  {
   "cell_type": "code",
   "execution_count": 3,
   "metadata": {},
   "outputs": [],
   "source": [
    "def sqrt2():\n",
    "    \"\"\"\n",
    "    Calculates and prints to the screen the square root of 2 to 100 decimal places.\n",
    "    \"\"\"\n",
    "    # Set the number of places to show after the decimal point\n",
    "    precision = 100\n",
    "\n",
    "    # Get the integer square root & multiply by the required power of 10\n",
    "    # Reference: Eugene Yarmash - https://stackoverflow.com/a/32651586\n",
    "    result = str(isqrt(2 * 10 ** (2 * precision))) # 2 x 10^200\n",
    "\n",
    "    ## Insert the decimal point\n",
    "    result = result[:1] + '.' + result[1:]\n",
    "\n",
    "    ## Output the result\n",
    "    print(result)"
   ]
  },
  {
   "cell_type": "markdown",
   "metadata": {},
   "source": [
    "### Testing"
   ]
  },
  {
   "cell_type": "markdown",
   "metadata": {},
   "source": [
    "In order to help illustrate the functions accuracy, we can compare the output of the standard library's `math.sqrt()` function with the above `sqrt2()` function."
   ]
  },
  {
   "cell_type": "code",
   "execution_count": 4,
   "metadata": {},
   "outputs": [
    {
     "name": "stdout",
     "output_type": "stream",
     "text": [
      "1.4142135623730951\n",
      "1.4142135623730950488016887242096980785696718753769480731766797379907324784621070388503875343276415727\n"
     ]
    }
   ],
   "source": [
    "from math import sqrt\n",
    "\n",
    "print(sqrt(2))\n",
    "sqrt2()"
   ]
  },
  {
   "cell_type": "markdown",
   "metadata": {},
   "source": [
    "We can also compare the result to that given by the `sqrt` function provided by Pyhon's built-in `decimal` module. Doing so, we find both functions produce the same number."
   ]
  },
  {
   "cell_type": "code",
   "execution_count": 5,
   "metadata": {},
   "outputs": [
    {
     "name": "stdout",
     "output_type": "stream",
     "text": [
      "1.4142135623730950488016887242096980785696718753769480731766797379907324784621070388503875343276415727\n",
      "1.4142135623730950488016887242096980785696718753769480731766797379907324784621070388503875343276415727\n"
     ]
    }
   ],
   "source": [
    "from decimal import (\n",
    "    getcontext,\n",
    "    Decimal\n",
    ")\n",
    "\n",
    "getcontext().prec = 101\n",
    "result = Decimal(2).sqrt()\n",
    "\n",
    "print(result)\n",
    "sqrt2()"
   ]
  },
  {
   "cell_type": "markdown",
   "metadata": {},
   "source": [
    "## References"
   ]
  },
  {
   "cell_type": "markdown",
   "metadata": {},
   "source": [
    "1. [*Floating Point Arithmetic: Issues and Limitations*](https://docs.python.org/3/tutorial/floatingpoint.html). The Python 3 Standard Library Documentation.\n",
    "2. [*The Perils of Floating Point*](http://www.lahey.com/float.htm). Bush, Bruce M.\n",
    "3. [*Double-precision floating-point format*](https://en.wikipedia.org/wiki/Double-precision_floating-point_format). Wikipedia.\n",
    "4. [*Built-in Types*](https://docs.python.org/3/library/stdtypes.html). The Python 3 Standard Library Documentation.\n",
    "5. [*Integer square root*](https://en.wikipedia.org/wiki/Integer_square_root). Wikipedia.\n",
    "6. [*Newton's Method*](https://en.wikipedia.org/wiki/Newton%27s_method). Wikipedia.\n",
    "7. [*A Tour of Go*](https://tour.golang.org/flowcontrol/8). Golang documentation."
   ]
  }
 ],
 "metadata": {
  "kernelspec": {
   "display_name": "Python 3",
   "language": "python",
   "name": "python3"
  },
  "language_info": {
   "codemirror_mode": {
    "name": "ipython",
    "version": 3
   },
   "file_extension": ".py",
   "mimetype": "text/x-python",
   "name": "python",
   "nbconvert_exporter": "python",
   "pygments_lexer": "ipython3",
   "version": "3.8.3"
  }
 },
 "nbformat": 4,
 "nbformat_minor": 4
}
