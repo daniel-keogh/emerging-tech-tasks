{
 "cells": [
  {
   "cell_type": "markdown",
   "metadata": {},
   "source": [
    "# Emerging Technologies Tasks"
   ]
  },
  {
   "cell_type": "markdown",
   "metadata": {},
   "source": [
    "My solutions to the Emerging Technologies tasks assessment."
   ]
  },
  {
   "cell_type": "markdown",
   "metadata": {},
   "source": [
    "## Task 1: Square Root of 2"
   ]
  },
  {
   "cell_type": "markdown",
   "metadata": {},
   "source": [
    ">Write a Python function called `sqrt2` that calculates and prints to the screen the square root of 2 to 100 decimal places.\n",
    ">Your code should not depend on any module from the standard library or otherwise. You should research the task first and include references and a description of your algorithm."
   ]
  },
  {
   "cell_type": "code",
   "execution_count": 3,
   "metadata": {},
   "outputs": [],
   "source": [
    "def isqrt(n: int) -> int:\n",
    "    \"\"\"\n",
    "    Calculates the integer square root of `n` using Newton's method, i.e The greatest\n",
    "    positive integer less than or equal to the square root of `n`.\n",
    "    :return: the integer square root of `n`.\n",
    "    \"\"\"\n",
    "    # Reference: user448810 - https://stackoverflow.com/a/15391420\n",
    "    x = n\n",
    "\n",
    "    # Calculate the initial \"seed value\"\n",
    "    guess = (x + 1) // 2\n",
    "\n",
    "    while guess < x:\n",
    "        x = guess\n",
    "        guess = (x + n // x) // 2\n",
    "\n",
    "    return x"
   ]
  },
  {
   "cell_type": "code",
   "execution_count": 4,
   "metadata": {},
   "outputs": [],
   "source": [
    "def sqrt2():\n",
    "    \"\"\"\n",
    "    Calculates and prints to the screen the square root of 2 to 100 decimal places.\n",
    "    \"\"\"\n",
    "    # Set the number of places to show after the decimal point\n",
    "    precision = 100\n",
    "\n",
    "    # Get the integer square root & multiply by the required power of 10\n",
    "    # Reference: Eugene Yarmash - https://stackoverflow.com/a/32651586\n",
    "    result = str(isqrt(2 * 10 ** (2 * precision))) # 2 x 10^200\n",
    "\n",
    "    ## Insert the decimal point\n",
    "    result = result[:1] + '.' + result[1:]\n",
    "\n",
    "    ## Output the result\n",
    "    print(result)"
   ]
  },
  {
   "cell_type": "markdown",
   "metadata": {},
   "source": [
    "## Testing"
   ]
  },
  {
   "cell_type": "markdown",
   "metadata": {},
   "source": [
    "In order to help illustrate the functions accuracy, we can compare the output of the standard library's `math.sqrt()` function with the above `sqrt2()` function."
   ]
  },
  {
   "cell_type": "code",
   "execution_count": 6,
   "metadata": {},
   "outputs": [
    {
     "name": "stdout",
     "output_type": "stream",
     "text": [
      "1.4142135623730951\n",
      "1.4142135623730950488016887242096980785696718753769480731766797379907324784621070388503875343276415727\n"
     ]
    }
   ],
   "source": [
    "from math import sqrt\n",
    "\n",
    "print(sqrt(2))\n",
    "sqrt2()"
   ]
  },
  {
   "cell_type": "markdown",
   "metadata": {},
   "source": [
    "## References"
   ]
  },
  {
   "cell_type": "markdown",
   "metadata": {},
   "source": []
  }
 ],
 "metadata": {
  "kernelspec": {
   "display_name": "Python 3",
   "language": "python",
   "name": "python3"
  },
  "language_info": {
   "codemirror_mode": {
    "name": "ipython",
    "version": 3
   },
   "file_extension": ".py",
   "mimetype": "text/x-python",
   "name": "python",
   "nbconvert_exporter": "python",
   "pygments_lexer": "ipython3",
   "version": "3.8.3"
  }
 },
 "nbformat": 4,
 "nbformat_minor": 4
}
